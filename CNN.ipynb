{
 "cells": [
  {
   "cell_type": "code",
   "execution_count": 32,
   "id": "68474fff",
   "metadata": {},
   "outputs": [],
   "source": [
    "from sklearn.model_selection import train_test_split\n",
    "from sklearn.preprocessing import LabelEncoder\n",
    "from sklearn.metrics import classification_report\n",
    "from tensorflow.keras.models import Sequential\n",
    "from tensorflow.keras.layers import InputLayer, Flatten, Dense, Conv2D, MaxPool2D, Dropout\n",
    "from tensorflow.keras.optimizers import Adam\n",
    "import numpy as np\n",
    "import cv2\n",
    "import glob\n",
    "import matplotlib.pyplot as plt"
   ]
  },
  {
   "cell_type": "code",
   "execution_count": 33,
   "id": "529d470e",
   "metadata": {},
   "outputs": [],
   "source": [
    "imagePaths = 'Dataset/'\n",
    "label_list = ['Jambu', 'Pepaya']\n",
    "data = []\n",
    "labels = []"
   ]
  },
  {
   "cell_type": "code",
   "execution_count": 34,
   "id": "02e68ae0",
   "metadata": {},
   "outputs": [],
   "source": [
    "for label in label_list:\n",
    "    for imagePath in glob.glob(imagePaths+label+'/*.jpg'):\n",
    "        #print(imagePath)\n",
    "        image = cv2.imread(imagePath)\n",
    "        image = cv2.resize(image, (32, 32))\n",
    "        data.append(image)\n",
    "        labels.append(label)"
   ]
  },
  {
   "cell_type": "code",
   "execution_count": 35,
   "id": "19642d0f",
   "metadata": {},
   "outputs": [
    {
     "data": {
      "text/plain": [
       "(100, 32, 32, 3)"
      ]
     },
     "execution_count": 35,
     "metadata": {},
     "output_type": "execute_result"
    }
   ],
   "source": [
    "np.array(data).shape"
   ]
  },
  {
   "cell_type": "code",
   "execution_count": 36,
   "id": "30fbfe8a",
   "metadata": {},
   "outputs": [],
   "source": [
    "# ubah type data dari list menjadi array\n",
    "# ubah nilai dari tiap pixel menjadi range [0..1]\n",
    "data = np.array(data, dtype='float') / 255.0\n",
    "labels = np.array(labels)"
   ]
  },
  {
   "cell_type": "code",
   "execution_count": 37,
   "id": "08b5521f",
   "metadata": {},
   "outputs": [
    {
     "name": "stdout",
     "output_type": "stream",
     "text": [
      "['Jambu' 'Jambu' 'Jambu' 'Jambu' 'Jambu' 'Jambu' 'Jambu' 'Jambu' 'Jambu'\n",
      " 'Jambu' 'Jambu' 'Jambu' 'Jambu' 'Jambu' 'Jambu' 'Jambu' 'Jambu' 'Jambu'\n",
      " 'Jambu' 'Jambu' 'Jambu' 'Jambu' 'Jambu' 'Jambu' 'Jambu' 'Jambu' 'Jambu'\n",
      " 'Jambu' 'Jambu' 'Jambu' 'Jambu' 'Jambu' 'Jambu' 'Jambu' 'Jambu' 'Jambu'\n",
      " 'Jambu' 'Jambu' 'Jambu' 'Jambu' 'Jambu' 'Jambu' 'Jambu' 'Jambu' 'Jambu'\n",
      " 'Jambu' 'Jambu' 'Jambu' 'Jambu' 'Jambu' 'Pepaya' 'Pepaya' 'Pepaya'\n",
      " 'Pepaya' 'Pepaya' 'Pepaya' 'Pepaya' 'Pepaya' 'Pepaya' 'Pepaya' 'Pepaya'\n",
      " 'Pepaya' 'Pepaya' 'Pepaya' 'Pepaya' 'Pepaya' 'Pepaya' 'Pepaya' 'Pepaya'\n",
      " 'Pepaya' 'Pepaya' 'Pepaya' 'Pepaya' 'Pepaya' 'Pepaya' 'Pepaya' 'Pepaya'\n",
      " 'Pepaya' 'Pepaya' 'Pepaya' 'Pepaya' 'Pepaya' 'Pepaya' 'Pepaya' 'Pepaya'\n",
      " 'Pepaya' 'Pepaya' 'Pepaya' 'Pepaya' 'Pepaya' 'Pepaya' 'Pepaya' 'Pepaya'\n",
      " 'Pepaya' 'Pepaya' 'Pepaya' 'Pepaya' 'Pepaya' 'Pepaya' 'Pepaya']\n"
     ]
    }
   ],
   "source": [
    "print(labels)"
   ]
  },
  {
   "cell_type": "code",
   "execution_count": 38,
   "id": "305defb9",
   "metadata": {},
   "outputs": [
    {
     "name": "stdout",
     "output_type": "stream",
     "text": [
      "[0 0 0 0 0 0 0 0 0 0 0 0 0 0 0 0 0 0 0 0 0 0 0 0 0 0 0 0 0 0 0 0 0 0 0 0 0\n",
      " 0 0 0 0 0 0 0 0 0 0 0 0 0 1 1 1 1 1 1 1 1 1 1 1 1 1 1 1 1 1 1 1 1 1 1 1 1\n",
      " 1 1 1 1 1 1 1 1 1 1 1 1 1 1 1 1 1 1 1 1 1 1 1 1 1 1]\n"
     ]
    }
   ],
   "source": [
    "# ubah nilai dari labels menjadi binary\n",
    "lb = LabelEncoder()\n",
    "labels = lb.fit_transform(labels)\n",
    "print(labels)"
   ]
  },
  {
   "cell_type": "code",
   "execution_count": 39,
   "id": "c8fde7f8",
   "metadata": {},
   "outputs": [],
   "source": [
    "x_train, x_test, y_train, y_test = train_test_split(data, labels, test_size=0.2, random_state=42)"
   ]
  },
  {
   "cell_type": "code",
   "execution_count": 40,
   "id": "5e2ec93d",
   "metadata": {},
   "outputs": [
    {
     "name": "stdout",
     "output_type": "stream",
     "text": [
      "Ukuran data train = (80, 32, 32, 3)\n",
      "Ukuran data test = (20, 32, 32, 3)\n"
     ]
    }
   ],
   "source": [
    "print('Ukuran data train =', x_train.shape)\n",
    "print('Ukuran data test =', x_test.shape)"
   ]
  },
  {
   "cell_type": "code",
   "execution_count": 41,
   "id": "b6171517",
   "metadata": {},
   "outputs": [],
   "source": [
    "model = Sequential()\n",
    "# Extracted Feature Layer\n",
    "model.add(InputLayer(input_shape=[32,32,3]))\n",
    "model.add(Conv2D(filters=32, kernel_size=2, strides=1, padding='same', activation='relu'))\n",
    "model.add(MaxPool2D(pool_size=2, padding='same'))\n",
    "model.add(Conv2D(filters=50, kernel_size=2, strides=1, padding='same', activation='relu'))\n",
    "model.add(MaxPool2D(pool_size=2, padding='same'))\n",
    "model.add(Dropout(0.25))\n",
    "model.add(Flatten())\n",
    "# Fully Connected Layer\n",
    "model.add(Dense(512, activation='relu'))\n",
    "model.add(Dropout(0.5))\n",
    "model.add(Dense(1, activation='sigmoid'))"
   ]
  },
  {
   "cell_type": "code",
   "execution_count": 42,
   "id": "0688904d",
   "metadata": {},
   "outputs": [
    {
     "name": "stdout",
     "output_type": "stream",
     "text": [
      "Model: \"sequential_1\"\n",
      "_________________________________________________________________\n",
      " Layer (type)                Output Shape              Param #   \n",
      "=================================================================\n",
      " conv2d_2 (Conv2D)           (None, 32, 32, 32)        416       \n",
      "                                                                 \n",
      " max_pooling2d_2 (MaxPooling  (None, 16, 16, 32)       0         \n",
      " 2D)                                                             \n",
      "                                                                 \n",
      " conv2d_3 (Conv2D)           (None, 16, 16, 50)        6450      \n",
      "                                                                 \n",
      " max_pooling2d_3 (MaxPooling  (None, 8, 8, 50)         0         \n",
      " 2D)                                                             \n",
      "                                                                 \n",
      " dropout_2 (Dropout)         (None, 8, 8, 50)          0         \n",
      "                                                                 \n",
      " flatten_1 (Flatten)         (None, 3200)              0         \n",
      "                                                                 \n",
      " dense_2 (Dense)             (None, 512)               1638912   \n",
      "                                                                 \n",
      " dropout_3 (Dropout)         (None, 512)               0         \n",
      "                                                                 \n",
      " dense_3 (Dense)             (None, 1)                 513       \n",
      "                                                                 \n",
      "=================================================================\n",
      "Total params: 1,646,291\n",
      "Trainable params: 1,646,291\n",
      "Non-trainable params: 0\n",
      "_________________________________________________________________\n"
     ]
    }
   ],
   "source": [
    "model.summary()"
   ]
  },
  {
   "cell_type": "code",
   "execution_count": 43,
   "id": "70d59f64",
   "metadata": {},
   "outputs": [],
   "source": [
    "# tentukan hyperparameter\n",
    "lr = 0.001\n",
    "max_epochs = 100\n",
    "opt_funct = Adam(learning_rate=lr)"
   ]
  },
  {
   "cell_type": "code",
   "execution_count": 44,
   "id": "f410d93b",
   "metadata": {},
   "outputs": [],
   "source": [
    "# compile arsitektur yang telah dibuat\n",
    "model.compile(loss = 'binary_crossentropy', \n",
    "              optimizer = opt_funct, \n",
    "              metrics = ['accuracy'])"
   ]
  },
  {
   "cell_type": "code",
   "execution_count": 45,
   "id": "123ffcb7",
   "metadata": {},
   "outputs": [
    {
     "name": "stdout",
     "output_type": "stream",
     "text": [
      "Epoch 1/100\n",
      "3/3 [==============================] - 1s 178ms/step - loss: 0.6370 - accuracy: 0.6000 - val_loss: 0.3810 - val_accuracy: 1.0000\n",
      "Epoch 2/100\n",
      "3/3 [==============================] - 0s 74ms/step - loss: 0.3642 - accuracy: 0.9000 - val_loss: 0.2006 - val_accuracy: 1.0000\n",
      "Epoch 3/100\n",
      "3/3 [==============================] - 0s 93ms/step - loss: 0.1909 - accuracy: 0.9625 - val_loss: 0.0673 - val_accuracy: 1.0000\n",
      "Epoch 4/100\n",
      "3/3 [==============================] - 0s 66ms/step - loss: 0.0927 - accuracy: 0.9750 - val_loss: 0.0258 - val_accuracy: 1.0000\n",
      "Epoch 5/100\n",
      "3/3 [==============================] - 0s 72ms/step - loss: 0.0355 - accuracy: 1.0000 - val_loss: 0.0157 - val_accuracy: 1.0000\n",
      "Epoch 6/100\n",
      "3/3 [==============================] - 0s 67ms/step - loss: 0.0255 - accuracy: 0.9875 - val_loss: 0.0126 - val_accuracy: 1.0000\n",
      "Epoch 7/100\n",
      "3/3 [==============================] - 0s 67ms/step - loss: 0.0196 - accuracy: 0.9875 - val_loss: 0.0040 - val_accuracy: 1.0000\n",
      "Epoch 8/100\n",
      "3/3 [==============================] - 0s 76ms/step - loss: 0.0161 - accuracy: 1.0000 - val_loss: 0.0019 - val_accuracy: 1.0000\n",
      "Epoch 9/100\n",
      "3/3 [==============================] - 0s 70ms/step - loss: 0.0146 - accuracy: 1.0000 - val_loss: 0.0042 - val_accuracy: 1.0000\n",
      "Epoch 10/100\n",
      "3/3 [==============================] - 0s 79ms/step - loss: 0.0064 - accuracy: 1.0000 - val_loss: 0.0113 - val_accuracy: 1.0000\n",
      "Epoch 11/100\n",
      "3/3 [==============================] - 0s 85ms/step - loss: 0.0041 - accuracy: 1.0000 - val_loss: 0.0070 - val_accuracy: 1.0000\n",
      "Epoch 12/100\n",
      "3/3 [==============================] - 0s 67ms/step - loss: 0.0076 - accuracy: 1.0000 - val_loss: 9.1032e-04 - val_accuracy: 1.0000\n",
      "Epoch 13/100\n",
      "3/3 [==============================] - 0s 66ms/step - loss: 0.0098 - accuracy: 0.9875 - val_loss: 9.8312e-04 - val_accuracy: 1.0000\n",
      "Epoch 14/100\n",
      "3/3 [==============================] - 0s 75ms/step - loss: 0.0045 - accuracy: 1.0000 - val_loss: 0.0023 - val_accuracy: 1.0000\n",
      "Epoch 15/100\n",
      "3/3 [==============================] - 0s 66ms/step - loss: 0.0090 - accuracy: 1.0000 - val_loss: 6.8915e-04 - val_accuracy: 1.0000\n",
      "Epoch 16/100\n",
      "3/3 [==============================] - 0s 90ms/step - loss: 0.0014 - accuracy: 1.0000 - val_loss: 2.6689e-04 - val_accuracy: 1.0000\n",
      "Epoch 17/100\n",
      "3/3 [==============================] - 0s 76ms/step - loss: 3.2206e-04 - accuracy: 1.0000 - val_loss: 4.9076e-04 - val_accuracy: 1.0000\n",
      "Epoch 18/100\n",
      "3/3 [==============================] - 0s 72ms/step - loss: 3.9687e-04 - accuracy: 1.0000 - val_loss: 0.0012 - val_accuracy: 1.0000\n",
      "Epoch 19/100\n",
      "3/3 [==============================] - 0s 71ms/step - loss: 0.0013 - accuracy: 1.0000 - val_loss: 0.0017 - val_accuracy: 1.0000\n",
      "Epoch 20/100\n",
      "3/3 [==============================] - 0s 92ms/step - loss: 0.0015 - accuracy: 1.0000 - val_loss: 7.8804e-04 - val_accuracy: 1.0000\n",
      "Epoch 21/100\n",
      "3/3 [==============================] - 0s 94ms/step - loss: 0.0012 - accuracy: 1.0000 - val_loss: 3.0268e-04 - val_accuracy: 1.0000\n",
      "Epoch 22/100\n",
      "3/3 [==============================] - 0s 74ms/step - loss: 2.0126e-04 - accuracy: 1.0000 - val_loss: 1.8794e-04 - val_accuracy: 1.0000\n",
      "Epoch 23/100\n",
      "3/3 [==============================] - 0s 71ms/step - loss: 4.5599e-04 - accuracy: 1.0000 - val_loss: 1.5707e-04 - val_accuracy: 1.0000\n",
      "Epoch 24/100\n",
      "3/3 [==============================] - 0s 75ms/step - loss: 6.3151e-04 - accuracy: 1.0000 - val_loss: 1.4564e-04 - val_accuracy: 1.0000\n",
      "Epoch 25/100\n",
      "3/3 [==============================] - 0s 77ms/step - loss: 1.6509e-04 - accuracy: 1.0000 - val_loss: 1.3772e-04 - val_accuracy: 1.0000\n",
      "Epoch 26/100\n",
      "3/3 [==============================] - 0s 93ms/step - loss: 2.2336e-04 - accuracy: 1.0000 - val_loss: 1.3020e-04 - val_accuracy: 1.0000\n",
      "Epoch 27/100\n",
      "3/3 [==============================] - 0s 66ms/step - loss: 1.7761e-04 - accuracy: 1.0000 - val_loss: 1.2325e-04 - val_accuracy: 1.0000\n",
      "Epoch 28/100\n",
      "3/3 [==============================] - 0s 67ms/step - loss: 1.9935e-04 - accuracy: 1.0000 - val_loss: 1.1722e-04 - val_accuracy: 1.0000\n",
      "Epoch 29/100\n",
      "3/3 [==============================] - 0s 75ms/step - loss: 2.2062e-04 - accuracy: 1.0000 - val_loss: 1.1293e-04 - val_accuracy: 1.0000\n",
      "Epoch 30/100\n",
      "3/3 [==============================] - 0s 75ms/step - loss: 1.4381e-04 - accuracy: 1.0000 - val_loss: 1.1142e-04 - val_accuracy: 1.0000\n",
      "Epoch 31/100\n",
      "3/3 [==============================] - 0s 84ms/step - loss: 9.3752e-05 - accuracy: 1.0000 - val_loss: 1.1294e-04 - val_accuracy: 1.0000\n",
      "Epoch 32/100\n",
      "3/3 [==============================] - 0s 96ms/step - loss: 7.8889e-05 - accuracy: 1.0000 - val_loss: 1.1676e-04 - val_accuracy: 1.0000\n",
      "Epoch 33/100\n",
      "3/3 [==============================] - 0s 97ms/step - loss: 8.5483e-05 - accuracy: 1.0000 - val_loss: 1.2331e-04 - val_accuracy: 1.0000\n",
      "Epoch 34/100\n",
      "3/3 [==============================] - 0s 75ms/step - loss: 8.1824e-05 - accuracy: 1.0000 - val_loss: 1.3107e-04 - val_accuracy: 1.0000\n",
      "Epoch 35/100\n",
      "3/3 [==============================] - 0s 75ms/step - loss: 1.4632e-04 - accuracy: 1.0000 - val_loss: 1.3400e-04 - val_accuracy: 1.0000\n",
      "Epoch 36/100\n",
      "3/3 [==============================] - 0s 66ms/step - loss: 4.2705e-05 - accuracy: 1.0000 - val_loss: 1.3586e-04 - val_accuracy: 1.0000\n",
      "Epoch 37/100\n",
      "3/3 [==============================] - 0s 79ms/step - loss: 2.9379e-04 - accuracy: 1.0000 - val_loss: 1.2713e-04 - val_accuracy: 1.0000\n",
      "Epoch 38/100\n",
      "3/3 [==============================] - 0s 93ms/step - loss: 1.5206e-04 - accuracy: 1.0000 - val_loss: 1.0913e-04 - val_accuracy: 1.0000\n",
      "Epoch 39/100\n",
      "3/3 [==============================] - 0s 67ms/step - loss: 6.0009e-05 - accuracy: 1.0000 - val_loss: 9.8933e-05 - val_accuracy: 1.0000\n",
      "Epoch 40/100\n",
      "3/3 [==============================] - 0s 75ms/step - loss: 1.1221e-04 - accuracy: 1.0000 - val_loss: 8.9333e-05 - val_accuracy: 1.0000\n",
      "Epoch 41/100\n",
      "3/3 [==============================] - 0s 88ms/step - loss: 8.7892e-05 - accuracy: 1.0000 - val_loss: 8.4174e-05 - val_accuracy: 1.0000\n",
      "Epoch 42/100\n",
      "3/3 [==============================] - 0s 68ms/step - loss: 7.9612e-05 - accuracy: 1.0000 - val_loss: 8.1541e-05 - val_accuracy: 1.0000\n",
      "Epoch 43/100\n",
      "3/3 [==============================] - 0s 66ms/step - loss: 7.0510e-05 - accuracy: 1.0000 - val_loss: 7.9804e-05 - val_accuracy: 1.0000\n",
      "Epoch 44/100\n",
      "3/3 [==============================] - 0s 66ms/step - loss: 1.1292e-04 - accuracy: 1.0000 - val_loss: 7.9984e-05 - val_accuracy: 1.0000\n",
      "Epoch 45/100\n",
      "3/3 [==============================] - 0s 66ms/step - loss: 1.2092e-04 - accuracy: 1.0000 - val_loss: 8.0842e-05 - val_accuracy: 1.0000\n",
      "Epoch 46/100\n",
      "3/3 [==============================] - 0s 68ms/step - loss: 4.3468e-05 - accuracy: 1.0000 - val_loss: 8.3372e-05 - val_accuracy: 1.0000\n",
      "Epoch 47/100\n",
      "3/3 [==============================] - 0s 94ms/step - loss: 7.3703e-05 - accuracy: 1.0000 - val_loss: 8.6126e-05 - val_accuracy: 1.0000\n",
      "Epoch 48/100\n",
      "3/3 [==============================] - 0s 59ms/step - loss: 8.8427e-05 - accuracy: 1.0000 - val_loss: 8.8958e-05 - val_accuracy: 1.0000\n",
      "Epoch 49/100\n",
      "3/3 [==============================] - 0s 67ms/step - loss: 5.7056e-05 - accuracy: 1.0000 - val_loss: 9.3502e-05 - val_accuracy: 1.0000\n",
      "Epoch 50/100\n",
      "3/3 [==============================] - 0s 74ms/step - loss: 5.6965e-05 - accuracy: 1.0000 - val_loss: 9.7557e-05 - val_accuracy: 1.0000\n",
      "Epoch 51/100\n",
      "3/3 [==============================] - 0s 80ms/step - loss: 2.3206e-05 - accuracy: 1.0000 - val_loss: 1.0133e-04 - val_accuracy: 1.0000\n",
      "Epoch 52/100\n",
      "3/3 [==============================] - 0s 76ms/step - loss: 3.4589e-05 - accuracy: 1.0000 - val_loss: 1.0594e-04 - val_accuracy: 1.0000\n",
      "Epoch 53/100\n",
      "3/3 [==============================] - 0s 71ms/step - loss: 3.6842e-05 - accuracy: 1.0000 - val_loss: 1.1244e-04 - val_accuracy: 1.0000\n",
      "Epoch 54/100\n",
      "3/3 [==============================] - 0s 79ms/step - loss: 5.6922e-05 - accuracy: 1.0000 - val_loss: 1.1828e-04 - val_accuracy: 1.0000\n",
      "Epoch 55/100\n",
      "3/3 [==============================] - 0s 75ms/step - loss: 3.4334e-05 - accuracy: 1.0000 - val_loss: 1.2414e-04 - val_accuracy: 1.0000\n",
      "Epoch 56/100\n",
      "3/3 [==============================] - 0s 66ms/step - loss: 8.7735e-05 - accuracy: 1.0000 - val_loss: 1.1035e-04 - val_accuracy: 1.0000\n"
     ]
    },
    {
     "name": "stdout",
     "output_type": "stream",
     "text": [
      "Epoch 57/100\n",
      "3/3 [==============================] - 0s 67ms/step - loss: 1.3293e-04 - accuracy: 1.0000 - val_loss: 1.0520e-04 - val_accuracy: 1.0000\n",
      "Epoch 58/100\n",
      "3/3 [==============================] - 0s 66ms/step - loss: 1.1303e-04 - accuracy: 1.0000 - val_loss: 9.4569e-05 - val_accuracy: 1.0000\n",
      "Epoch 59/100\n",
      "3/3 [==============================] - 0s 93ms/step - loss: 1.6016e-05 - accuracy: 1.0000 - val_loss: 8.8293e-05 - val_accuracy: 1.0000\n",
      "Epoch 60/100\n",
      "3/3 [==============================] - 0s 75ms/step - loss: 7.0621e-05 - accuracy: 1.0000 - val_loss: 8.4874e-05 - val_accuracy: 1.0000\n",
      "Epoch 61/100\n",
      "3/3 [==============================] - 0s 74ms/step - loss: 6.7448e-05 - accuracy: 1.0000 - val_loss: 8.8764e-05 - val_accuracy: 1.0000\n",
      "Epoch 62/100\n",
      "3/3 [==============================] - 0s 80ms/step - loss: 2.6720e-05 - accuracy: 1.0000 - val_loss: 9.4736e-05 - val_accuracy: 1.0000\n",
      "Epoch 63/100\n",
      "3/3 [==============================] - 0s 67ms/step - loss: 1.4105e-05 - accuracy: 1.0000 - val_loss: 9.9364e-05 - val_accuracy: 1.0000\n",
      "Epoch 64/100\n",
      "3/3 [==============================] - 0s 72ms/step - loss: 1.5663e-04 - accuracy: 1.0000 - val_loss: 9.7847e-05 - val_accuracy: 1.0000\n",
      "Epoch 65/100\n",
      "3/3 [==============================] - 0s 69ms/step - loss: 5.6788e-05 - accuracy: 1.0000 - val_loss: 8.9272e-05 - val_accuracy: 1.0000\n",
      "Epoch 66/100\n",
      "3/3 [==============================] - 0s 75ms/step - loss: 1.6015e-05 - accuracy: 1.0000 - val_loss: 7.8434e-05 - val_accuracy: 1.0000\n",
      "Epoch 67/100\n",
      "3/3 [==============================] - 0s 75ms/step - loss: 2.9539e-05 - accuracy: 1.0000 - val_loss: 7.4472e-05 - val_accuracy: 1.0000\n",
      "Epoch 68/100\n",
      "3/3 [==============================] - 0s 82ms/step - loss: 2.8480e-05 - accuracy: 1.0000 - val_loss: 7.2772e-05 - val_accuracy: 1.0000\n",
      "Epoch 69/100\n",
      "3/3 [==============================] - 0s 67ms/step - loss: 3.4330e-05 - accuracy: 1.0000 - val_loss: 6.3685e-05 - val_accuracy: 1.0000\n",
      "Epoch 70/100\n",
      "3/3 [==============================] - 0s 66ms/step - loss: 2.3177e-05 - accuracy: 1.0000 - val_loss: 5.8211e-05 - val_accuracy: 1.0000\n",
      "Epoch 71/100\n",
      "3/3 [==============================] - 0s 77ms/step - loss: 1.8756e-05 - accuracy: 1.0000 - val_loss: 5.3046e-05 - val_accuracy: 1.0000\n",
      "Epoch 72/100\n",
      "3/3 [==============================] - 0s 71ms/step - loss: 2.6626e-05 - accuracy: 1.0000 - val_loss: 4.8189e-05 - val_accuracy: 1.0000\n",
      "Epoch 73/100\n",
      "3/3 [==============================] - 0s 66ms/step - loss: 1.2208e-05 - accuracy: 1.0000 - val_loss: 4.4890e-05 - val_accuracy: 1.0000\n",
      "Epoch 74/100\n",
      "3/3 [==============================] - 0s 71ms/step - loss: 1.5237e-05 - accuracy: 1.0000 - val_loss: 4.3619e-05 - val_accuracy: 1.0000\n",
      "Epoch 75/100\n",
      "3/3 [==============================] - 0s 72ms/step - loss: 2.3994e-05 - accuracy: 1.0000 - val_loss: 4.3757e-05 - val_accuracy: 1.0000\n",
      "Epoch 76/100\n",
      "3/3 [==============================] - 0s 72ms/step - loss: 1.1422e-05 - accuracy: 1.0000 - val_loss: 4.4312e-05 - val_accuracy: 1.0000\n",
      "Epoch 77/100\n",
      "3/3 [==============================] - 0s 71ms/step - loss: 4.4912e-05 - accuracy: 1.0000 - val_loss: 4.1723e-05 - val_accuracy: 1.0000\n",
      "Epoch 78/100\n",
      "3/3 [==============================] - 0s 70ms/step - loss: 1.3130e-05 - accuracy: 1.0000 - val_loss: 4.0464e-05 - val_accuracy: 1.0000\n",
      "Epoch 79/100\n",
      "3/3 [==============================] - 0s 80ms/step - loss: 1.1662e-05 - accuracy: 1.0000 - val_loss: 4.0581e-05 - val_accuracy: 1.0000\n",
      "Epoch 80/100\n",
      "3/3 [==============================] - 0s 90ms/step - loss: 2.1873e-05 - accuracy: 1.0000 - val_loss: 4.1987e-05 - val_accuracy: 1.0000\n",
      "Epoch 81/100\n",
      "3/3 [==============================] - 0s 68ms/step - loss: 8.9932e-06 - accuracy: 1.0000 - val_loss: 4.4139e-05 - val_accuracy: 1.0000\n",
      "Epoch 82/100\n",
      "3/3 [==============================] - 0s 82ms/step - loss: 1.9639e-05 - accuracy: 1.0000 - val_loss: 4.4849e-05 - val_accuracy: 1.0000\n",
      "Epoch 83/100\n",
      "3/3 [==============================] - 0s 70ms/step - loss: 1.9197e-05 - accuracy: 1.0000 - val_loss: 4.6028e-05 - val_accuracy: 1.0000\n",
      "Epoch 84/100\n",
      "3/3 [==============================] - 0s 82ms/step - loss: 1.5862e-05 - accuracy: 1.0000 - val_loss: 4.9520e-05 - val_accuracy: 1.0000\n",
      "Epoch 85/100\n",
      "3/3 [==============================] - 0s 82ms/step - loss: 1.5367e-05 - accuracy: 1.0000 - val_loss: 5.3932e-05 - val_accuracy: 1.0000\n",
      "Epoch 86/100\n",
      "3/3 [==============================] - 0s 75ms/step - loss: 1.1924e-05 - accuracy: 1.0000 - val_loss: 5.8229e-05 - val_accuracy: 1.0000\n",
      "Epoch 87/100\n",
      "3/3 [==============================] - 0s 94ms/step - loss: 6.6986e-06 - accuracy: 1.0000 - val_loss: 6.1099e-05 - val_accuracy: 1.0000\n",
      "Epoch 88/100\n",
      "3/3 [==============================] - 0s 70ms/step - loss: 1.9375e-05 - accuracy: 1.0000 - val_loss: 5.9050e-05 - val_accuracy: 1.0000\n",
      "Epoch 89/100\n",
      "3/3 [==============================] - 0s 99ms/step - loss: 9.9216e-06 - accuracy: 1.0000 - val_loss: 5.5760e-05 - val_accuracy: 1.0000\n",
      "Epoch 90/100\n",
      "3/3 [==============================] - 0s 80ms/step - loss: 1.6405e-05 - accuracy: 1.0000 - val_loss: 5.3379e-05 - val_accuracy: 1.0000\n",
      "Epoch 91/100\n",
      "3/3 [==============================] - 0s 73ms/step - loss: 1.2005e-05 - accuracy: 1.0000 - val_loss: 5.2491e-05 - val_accuracy: 1.0000\n",
      "Epoch 92/100\n",
      "3/3 [==============================] - 0s 84ms/step - loss: 5.6168e-06 - accuracy: 1.0000 - val_loss: 5.2567e-05 - val_accuracy: 1.0000\n",
      "Epoch 93/100\n",
      "3/3 [==============================] - 0s 69ms/step - loss: 6.0308e-05 - accuracy: 1.0000 - val_loss: 6.2243e-05 - val_accuracy: 1.0000\n",
      "Epoch 94/100\n",
      "3/3 [==============================] - 0s 76ms/step - loss: 5.6291e-06 - accuracy: 1.0000 - val_loss: 7.0442e-05 - val_accuracy: 1.0000\n",
      "Epoch 95/100\n",
      "3/3 [==============================] - 0s 75ms/step - loss: 9.5263e-05 - accuracy: 1.0000 - val_loss: 9.2776e-05 - val_accuracy: 1.0000\n",
      "Epoch 96/100\n",
      "3/3 [==============================] - 0s 92ms/step - loss: 2.1569e-05 - accuracy: 1.0000 - val_loss: 1.4772e-04 - val_accuracy: 1.0000\n",
      "Epoch 97/100\n",
      "3/3 [==============================] - 0s 74ms/step - loss: 1.1982e-04 - accuracy: 1.0000 - val_loss: 1.2745e-04 - val_accuracy: 1.0000\n",
      "Epoch 98/100\n",
      "3/3 [==============================] - 0s 83ms/step - loss: 9.9254e-06 - accuracy: 1.0000 - val_loss: 5.8166e-05 - val_accuracy: 1.0000\n",
      "Epoch 99/100\n",
      "3/3 [==============================] - 0s 99ms/step - loss: 2.2114e-05 - accuracy: 1.0000 - val_loss: 3.3761e-05 - val_accuracy: 1.0000\n",
      "Epoch 100/100\n",
      "3/3 [==============================] - 0s 82ms/step - loss: 1.5105e-05 - accuracy: 1.0000 - val_loss: 2.3394e-05 - val_accuracy: 1.0000\n"
     ]
    }
   ],
   "source": [
    "H = model.fit(x_train, y_train, validation_data=(x_test, y_test), \n",
    "          epochs=max_epochs, batch_size=32)"
   ]
  },
  {
   "cell_type": "code",
   "execution_count": 46,
   "id": "9ebc5e97",
   "metadata": {},
   "outputs": [
    {
     "data": {
      "image/png": "[encoded data removed]",
      "text/plain": [
       "<Figure size 432x288 with 1 Axes>"
      ]
     },
     "metadata": {},
     "output_type": "display_data"
    }
   ],
   "source": [
    "N = np.arange(0, max_epochs)\n",
    "plt.style.use(\"ggplot\")\n",
    "plt.figure()\n",
    "plt.plot(N, H.history[\"loss\"], label=\"train_loss\")\n",
    "plt.plot(N, H.history[\"val_loss\"], label=\"val_loss\")\n",
    "#plt.plot(N, H.history[\"accuracy\"], label=\"train_acc\")\n",
    "#plt.plot(N, H.history[\"val_accuracy\"], label=\"val_acc\")\n",
    "plt.xlabel(\"Epoch #\")\n",
    "plt.legend()\n",
    "plt.show()"
   ]
  },
  {
   "cell_type": "code",
   "execution_count": 47,
   "id": "00fb0b23",
   "metadata": {},
   "outputs": [
    {
     "name": "stdout",
     "output_type": "stream",
     "text": [
      "              precision    recall  f1-score   support\n",
      "\n",
      "       Jambu       1.00      1.00      1.00        12\n",
      "      Pepaya       1.00      1.00      1.00         8\n",
      "\n",
      "    accuracy                           1.00        20\n",
      "   macro avg       1.00      1.00      1.00        20\n",
      "weighted avg       1.00      1.00      1.00        20\n",
      "\n"
     ]
    },
    {
     "name": "stderr",
     "output_type": "stream",
     "text": [
      "C:\\Users\\Admin\\AppData\\Local\\Temp\\ipykernel_10132\\954476436.py:3: DeprecationWarning: `np.int` is a deprecated alias for the builtin `int`. To silence this warning, use `int` by itself. Doing this will not modify any behavior and is safe. When replacing `np.int`, you may wish to use e.g. `np.int64` or `np.int32` to specify the precision. If you wish to review your current use, check the release note link for additional information.\n",
      "Deprecated in NumPy 1.20; for more details and guidance: https://numpy.org/devdocs/release/1.20.0-notes.html#deprecations\n",
      "  target = (predictions > 0.5).astype(np.int)\n"
     ]
    }
   ],
   "source": [
    "# menghitung nilai akurasi model terhadap data test\n",
    "predictions = model.predict(x_test, batch_size=32)\n",
    "target = (predictions > 0.5).astype(np.int)\n",
    "print(classification_report(y_test, target, target_names=label_list))"
   ]
  },
  {
   "cell_type": "code",
   "execution_count": 49,
   "id": "253ccfd1",
   "metadata": {},
   "outputs": [],
   "source": [
    "model.save('jambu_pepaya_class_model.h5')"
   ]
  }
 ],
 "metadata": {
  "kernelspec": {
   "display_name": "Python 3 (ipykernel)",
   "language": "python",
   "name": "python3"
  },
  "language_info": {
   "codemirror_mode": {
    "name": "ipython",
    "version": 3
   },
   "file_extension": ".py",
   "mimetype": "text/x-python",
   "name": "python",
   "nbconvert_exporter": "python",
   "pygments_lexer": "ipython3",
   "version": "3.9.6"
  }
 },
 "nbformat": 4,
 "nbformat_minor": 5
}
